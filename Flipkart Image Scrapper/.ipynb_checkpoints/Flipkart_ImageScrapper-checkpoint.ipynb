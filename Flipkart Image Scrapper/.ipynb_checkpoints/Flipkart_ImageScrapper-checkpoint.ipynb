{
 "cells": [
  {
   "cell_type": "code",
   "execution_count": 1,
   "id": "cad39e8c",
   "metadata": {},
   "outputs": [],
   "source": [
    "import requests\n",
    "from bs4 import BeautifulSoup as bs\n",
    "from urllib.request import urlopen as uReq\n",
    "from selenium import webdriver\n",
    "import os\n",
    "import urllib"
   ]
  },
  {
   "cell_type": "code",
   "execution_count": 2,
   "id": "83c55e73",
   "metadata": {},
   "outputs": [],
   "source": [
    "def fetch_image_urls(query: str, max_links_to_fetch: int, sleep_between_interactions: int = 1):\n",
    "\n",
    "    # build the flipkart query\n",
    "    search_url = \"https://www.flipkart.com/search?q=*{0}\"\n",
    "    \n",
    "    image_urls = set()\n",
    "    image_count = 0\n",
    "    results_start = 0\n",
    "    search_url = search_url.format(query).replace (\" \",\"%20\")\n",
    "    \n",
    "    while image_count < max_links_to_fetch-1:\n",
    "        search_page_html = build_beautifulsoup_object(search_url)\n",
    "        thumbnail_results = search_page_html.findAll(\"img\", {\"class\": \"_396cs4\"})\n",
    "        image_urls = image_urls.union(extract_image_urls(thumbnail_results))\n",
    "                \n",
    "        image_count = len(image_urls)\n",
    "        # Extract more images to meet the count\n",
    "        if image_count >= max_links_to_fetch:\n",
    "            print(f\"Found: {len(image_urls)} image links, done!\")\n",
    "            break\n",
    "        else:\n",
    "            print(\"Found:\", image_count, \"image links, looking for more ...\")\n",
    "            # Check if more search result pages available\n",
    "            if search_page_html.find(\"a\", {\"class\": \"_1LKTO3\"}):\n",
    "                if search_page_html.findAll(\"a\", {\"class\": \"_1LKTO3\"})[-1]['href'].find('http') > 0:\n",
    "                    search_url = search_page_html.findAll(\"a\", {\"class\": \"_1LKTO3\"})[-1]['href']\n",
    "                else:\n",
    "                    search_url = \"https://www.flipkart.com\" + search_page_html.findAll(\"a\", {\"class\": \"_1LKTO3\"})[-1]['href']\n",
    "            else:\n",
    "                print(\"Found:\", image_count, \"image links, no more available.\")\n",
    "                break;\n",
    "\n",
    "    return image_urls"
   ]
  },
  {
   "cell_type": "code",
   "execution_count": 3,
   "id": "c1f20326",
   "metadata": {},
   "outputs": [],
   "source": [
    "def extract_image_urls(thumbnail_results: list):\n",
    "    image_urls = set()\n",
    "    try:\n",
    "        for img in thumbnail_results:\n",
    "            # extract image urls\n",
    "            if img['src'] and 'http' in img['src']:\n",
    "                image_urls.add(img['src'])\n",
    "                \n",
    "    except Exception as e:\n",
    "        print(f\"ERROR - Extracting the image URLs - {e}\")\n",
    "    return image_urls"
   ]
  },
  {
   "cell_type": "code",
   "execution_count": 4,
   "id": "123f693a",
   "metadata": {},
   "outputs": [],
   "source": [
    "def build_beautifulsoup_object(url: str):\n",
    "    try:\n",
    "        # get all image thumbnail results\n",
    "        uClient = uReq(url)\n",
    "        flipkartPage = uClient.read()\n",
    "        uClient.close()\n",
    "        search_page_html = bs(flipkartPage, \"html.parser\")\n",
    "        \n",
    "    except Exception as e:\n",
    "        print(f\"ERROR - building the Beautiful Soup object {url} - {e}\")\n",
    "        \n",
    "    return search_page_html                               "
   ]
  },
  {
   "cell_type": "code",
   "execution_count": 5,
   "id": "b7f389b3",
   "metadata": {},
   "outputs": [],
   "source": [
    "def download_image(folder_path:str,url:str, counter):\n",
    "    try:\n",
    "        image_content = requests.get(url).content\n",
    "\n",
    "    except Exception as e:\n",
    "        print(f\"ERROR - Could not download {url} - {e}\")\n",
    "\n",
    "    try:\n",
    "        f = open(os.path.join(folder_path, 'jpg' + \"_\" + str(counter) + \".jpg\"), 'wb')\n",
    "        f.write(image_content)\n",
    "        f.close()\n",
    "        print(f\"SUCCESS - saved {url} - as {folder_path}\")\n",
    "    except Exception as e:\n",
    "        print(f\"ERROR - Could not save {url} - {e}\")"
   ]
  },
  {
   "cell_type": "code",
   "execution_count": 6,
   "id": "847161bb",
   "metadata": {},
   "outputs": [],
   "source": [
    "def search_and_download(search_term: str, driver_path: str, target_path='./images', number_images=10):\n",
    "    target_folder = os.path.join(target_path, '_'.join(search_term.lower().split(' ')))\n",
    "\n",
    "    if not os.path.exists(target_folder):\n",
    "        os.makedirs(target_folder)\n",
    "\n",
    "    with webdriver.Chrome(executable_path=driver_path) as wd:\n",
    "        res = fetch_image_urls(search_term, number_images, sleep_between_interactions=0.5)\n",
    "\n",
    "    counter = 0\n",
    "    for elem in res:\n",
    "        download_image(target_folder, elem, counter)\n",
    "        counter += 1"
   ]
  },
  {
   "cell_type": "code",
   "execution_count": 8,
   "id": "91724138",
   "metadata": {},
   "outputs": [
    {
     "name": "stderr",
     "output_type": "stream",
     "text": [
      "C:\\Users\\ashwin.prabhu\\AppData\\Local\\Temp\\ipykernel_11864\\2535471838.py:7: DeprecationWarning: executable_path has been deprecated, please pass in a Service object\n",
      "  with webdriver.Chrome(executable_path=driver_path) as wd:\n"
     ]
    },
    {
     "name": "stdout",
     "output_type": "stream",
     "text": [
      "Found: 40 image links, looking for more ...\n",
      "Found: 69 image links, done!\n",
      "SUCCESS - saved https://rukminim1.flixcart.com/image/612/612/jvcp9jk0/coffee-maker/w/7/p/nescafe-9426a-12-original-imafe7f64gzxjyk4.jpeg?q=70 - as ./images\\coffee_machine\n",
      "SUCCESS - saved https://rukminim1.flixcart.com/image/612/612/kzblocw0/coffee-maker/s/n/r/12345-laxmistore-original-imagbd2gzmcd9sqz.jpeg?q=70 - as ./images\\coffee_machine\n",
      "SUCCESS - saved https://rukminim1.flixcart.com/image/612/612/ktq4l8w0/coffee-maker/l/j/v/pcmd-4-0-41876-prestige-original-imag7ya226rnped8.jpeg?q=70 - as ./images\\coffee_machine\n",
      "SUCCESS - saved https://rukminim1.flixcart.com/image/612/612/krkyt8w0/coffee-maker/9/4/t/001-01-pk-india-original-imag5cg5qe4rafyk.jpeg?q=70 - as ./images\\coffee_machine\n",
      "SUCCESS - saved https://rukminim1.flixcart.com/image/612/612/kcauaa80/coffee-maker/k/z/g/kenberry-zest-original-imaftg9v5qtfnzkd.jpeg?q=70 - as ./images\\coffee_machine\n",
      "SUCCESS - saved https://rukminim1.flixcart.com/image/612/612/kb9ou4w0/electric-kettle/g/z/g/firefly-hub-511418141-original-imafsmv2sq4kazb5.jpeg?q=70 - as ./images\\coffee_machine\n",
      "SUCCESS - saved https://rukminim1.flixcart.com/image/612/612/k87nxjk0/coffee-maker/f/k/s/haden-1-5ltr-filter-coffee-maker-1-5ltr-filter-coffee-maker-original-imafqa7hfzgz9gvf.jpeg?q=70 - as ./images\\coffee_machine\n",
      "SUCCESS - saved https://rukminim1.flixcart.com/image/612/612/kobspe80/indian-coffee-filter/y/1/2/vbcf-01001-vamsy-original-imag2tbghrnva4fv.jpeg?q=70 - as ./images\\coffee_machine\n",
      "SUCCESS - saved https://rukminim1.flixcart.com/image/612/612/xif0q/coffee-maker/8/a/t/-original-imagg2xpusb7scee.jpeg?q=70 - as ./images\\coffee_machine\n",
      "SUCCESS - saved https://rukminim1.flixcart.com/image/612/612/kuyf8nk0/coffee-maker/u/o/h/coffee-grinder-electric-multi-function-small-food-grinder-grain-original-imag7ytjcpwys4mz.jpeg?q=70 - as ./images\\coffee_machine\n",
      "SUCCESS - saved https://rukminim1.flixcart.com/image/612/612/kwcfngw0/coffee-maker/d/r/p/stainless-steel-mini-handheld-electric-stirrer-for-drink-coffee-original-imag9frgpcc9pegy.jpeg?q=70 - as ./images\\coffee_machine\n",
      "SUCCESS - saved https://rukminim1.flixcart.com/image/612/612/kiqbma80-0/coffee-maker/c/k/o/stainless-steel-espresso-coffee-maker-percolator-coffee-moka-pot-original-imafygepnf9cqwgt.jpeg?q=70 - as ./images\\coffee_machine\n",
      "SUCCESS - saved https://rukminim1.flixcart.com/image/612/612/l1whaq80/coffee-maker/v/p/m/xpresso-coffee-perculator-4-cup-pigeon-original-imagddfag6ebzqpz.jpeg?q=70 - as ./images\\coffee_machine\n",
      "SUCCESS - saved https://rukminim1.flixcart.com/image/612/612/khxqt8w0-0/electric-kettle/b/c/3/scarlet-electric-kettle-2-litre-elegant-design-for-hot-water-tea-original-imafxuas3yzz8yfg.jpeg?q=70 - as ./images\\coffee_machine\n",
      "SUCCESS - saved https://rukminim1.flixcart.com/image/612/612/kvfkivk0/coffee-maker/i/x/d/coffee-beater-ii-froth-maker-ii-smart-stirrer-ii-modern-style-original-imag8bxz2qkudzgs.jpeg?q=70 - as ./images\\coffee_machine\n",
      "SUCCESS - saved https://rukminim1.flixcart.com/image/612/612/kybvo280/coffee-maker/n/3/j/coffee-tea-maker-electric-kettle-2-l-multipurpose-large-size-tea-original-imagakxzgnffrbd2.jpeg?q=70 - as ./images\\coffee_machine\n",
      "SUCCESS - saved https://rukminim1.flixcart.com/image/612/612/kfyasnk0/coffee-maker/f/b/g/inalsa-cafe-max-in91200007-original-imafwarydhxznzdh.jpeg?q=70 - as ./images\\coffee_machine\n",
      "SUCCESS - saved https://rukminim1.flixcart.com/image/612/612/kfikya80/whisk/4/g/z/hand-blender-mixer-froth-whisker-latte-maker-for-milk-coffee-egg-original-imafvyqwjpev9gcp.jpeg?q=70 - as ./images\\coffee_machine\n",
      "SUCCESS - saved https://rukminim1.flixcart.com/image/612/612/kt0enww0/whisk/l/z/1/2-in-1-coffee-frother-02-smb-enterprises-original-imag6gcjskxez8zu.jpeg?q=70 - as ./images\\coffee_machine\n",
      "SUCCESS - saved https://rukminim1.flixcart.com/image/612/612/xif0q/coffee-maker/x/i/l/regalia-regalia-bean-to-cup-brew-coffee-maker-with-grinder-original-imaggzyr3nmtffwv.jpeg?q=70 - as ./images\\coffee_machine\n",
      "SUCCESS - saved https://rukminim1.flixcart.com/image/612/612/kjhgzgw0-0/electric-kettle/m/f/t/scarlett-electric-kettle-multipurpose-large-size-tea-coffee-original-imafzfhczb2agr5d.jpeg?q=70 - as ./images\\coffee_machine\n",
      "SUCCESS - saved https://rukminim1.flixcart.com/image/612/612/klv7ekw0/electric-kettle/e/z/h/scarlet-kettle-scarlet-kettle-cloud-sales-original-imagywfy8ftmxfqq.jpeg?q=70 - as ./images\\coffee_machine\n",
      "SUCCESS - saved https://rukminim1.flixcart.com/image/612/612/l0sgyvk0/coffee-maker/c/l/a/grand-grand-coffee-grinder-stainless-steel-electric-capacity-60-original-imagcg4xvkgsxtp2.jpeg?q=70 - as ./images\\coffee_machine\n",
      "SUCCESS - saved https://rukminim1.flixcart.com/image/612/612/coffee-maker/b/d/a/preethi-cafe-zest-cm-212-cm210-original-imaehsr6kgtcsbw3.jpeg?q=70 - as ./images\\coffee_machine\n",
      "SUCCESS - saved https://rukminim1.flixcart.com/image/612/612/ki6bgcw0-0/electric-kettle/s/m/c/automatic-stainless-steel-electric-kettle-deodap-original-imafyyvwfrk9mvqg.jpeg?q=70 - as ./images\\coffee_machine\n",
      "SUCCESS - saved https://rukminim1.flixcart.com/image/612/612/jq8dgnk0/coffee-maker/p/y/5/havells-drip-cafe-n-6-drip-cafe-n-6-original-imafc8n2hbmyebj9.jpeg?q=70 - as ./images\\coffee_machine\n",
      "SUCCESS - saved https://rukminim1.flixcart.com/image/612/612/kua4r680/coffee-maker/9/g/h/electric-coffee-maker-automatic-turkish-coffee-maker-portable-original-imag7fz74xyeyt9t.jpeg?q=70 - as ./images\\coffee_machine\n",
      "SUCCESS - saved https://rukminim1.flixcart.com/image/612/612/klscivk0/electric-kettle/n/v/x/electric-kettle-kettle00-2l-nd-brothers-original-imagyts7phnuhf6a.jpeg?q=70 - as ./images\\coffee_machine\n",
      "SUCCESS - saved https://rukminim1.flixcart.com/image/612/612/kwv0djk0/hand-blender/7/x/y/mini-coffee-milk-egg-beater-mixer-shaker-home-kitchen-whisk-original-imag9fsggn4ssyaf.jpeg?q=70 - as ./images\\coffee_machine\n",
      "SUCCESS - saved https://rukminim1.flixcart.com/image/612/612/kfzq8i80/electric-kettle/t/u/m/leranath-ln-025-original-imafwbx8xn74vhst.jpeg?q=70 - as ./images\\coffee_machine\n",
      "SUCCESS - saved https://rukminim1.flixcart.com/image/612/612/kyhlfgw0/coffee-maker/w/o/g/400-ml-stainless-steel-manual-milk-frother-double-mesh-coffee-original-imagapz5zjfgujc7.jpeg?q=70 - as ./images\\coffee_machine\n",
      "SUCCESS - saved https://rukminim1.flixcart.com/image/612/612/k66sh3k0/electric-kettle/3/m/g/dhavl-2012-original-imafbgrxgvakynak.jpeg?q=70 - as ./images\\coffee_machine\n",
      "SUCCESS - saved https://rukminim1.flixcart.com/image/612/612/l2xmqvk0/coffee-maker/y/r/c/modern-cucina-cm-1-0-5-cups-coffee-maker-modern-cucina-pigeon-original-image63hydk7bzg5.jpeg?q=70 - as ./images\\coffee_machine\n",
      "SUCCESS - saved https://rukminim1.flixcart.com/image/612/612/l13whow0/coffee-maker/t/0/n/electric-coffee-grinder-for-beans-spice-grinder-with-removable-original-imagcqn2tkevfqxn.jpeg?q=70 - as ./images\\coffee_machine\n",
      "SUCCESS - saved https://rukminim1.flixcart.com/image/612/612/k94j24w0/coffee-maker/u/8/m/instacuppa-manual-coffee-grinder-with-adjustable-setting-conical-original-imafqzned8xhbxkj.jpeg?q=70 - as ./images\\coffee_machine\n",
      "SUCCESS - saved https://rukminim1.flixcart.com/image/612/612/xif0q/coffee-maker/p/9/i/mini-coffee-milk-egg-beater-electric-foam-hand-blender-mixer-original-imaggthgq6nyz8a5.jpeg?q=70 - as ./images\\coffee_machine\n",
      "SUCCESS - saved https://rukminim1.flixcart.com/image/612/612/kybvo280/coffee-maker/y/n/1/electric-coffee-maker-electric-kettle-cooker-electric-kettle-2-l-original-imagakufrqfn28un.jpeg?q=70 - as ./images\\coffee_machine\n",
      "SUCCESS - saved https://rukminim1.flixcart.com/image/612/612/l1whaq80/coffee-maker/w/j/i/coffee-perculator-xpresso-4-coffee-perculator-xpresso-4-pigeon-original-imagddfaavghypdf.jpeg?q=70 - as ./images\\coffee_machine\n",
      "SUCCESS - saved https://rukminim1.flixcart.com/image/612/612/l2jcccw0/coffee-maker/8/k/q/coffee-grinder-electric-multifunction-small-food-grinder-grain-original-imagduzjz7zsxszh.jpeg?q=70 - as ./images\\coffee_machine\n",
      "SUCCESS - saved https://rukminim1.flixcart.com/image/612/612/l1grgcw0/key-chain/g/x/k/amazing-mini-electric-heater-rod-for-boiling-coffee-water-milk-original-imagdyvuadfyyrjh.jpeg?q=70 - as ./images\\coffee_machine\n",
      "SUCCESS - saved https://rukminim1.flixcart.com/image/612/612/xif0q/coffee-maker/0/p/a/dc-9-dzirecollection-original-imagg6jffegfaypn.jpeg?q=70 - as ./images\\coffee_machine\n"
     ]
    },
    {
     "name": "stdout",
     "output_type": "stream",
     "text": [
      "SUCCESS - saved https://rukminim1.flixcart.com/image/612/612/kwzap3k0/coffee-maker/y/y/q/033-sajani-original-imag9jdzy2t8k8aj.jpeg?q=70 - as ./images\\coffee_machine\n",
      "SUCCESS - saved https://rukminim1.flixcart.com/image/612/612/kzx1a4w0/coffee-maker/v/q/z/classic-stovetop-espresso-maker-italian-style-percolator-coffee-original-imagbtmeaqj4g5hx.jpeg?q=70 - as ./images\\coffee_machine\n",
      "SUCCESS - saved https://rukminim1.flixcart.com/image/612/612/kybvo280/coffee-maker/s/q/a/coffee-tea-maker-electric-kettle-2-l-automatic-multipurpose-tea-original-imagakxw4hrdf6wc.jpeg?q=70 - as ./images\\coffee_machine\n",
      "SUCCESS - saved https://rukminim1.flixcart.com/image/612/612/ku79vgw0/coffee-maker/t/v/n/hd7432-20-philips-original-imag7dzytzyyh44v.jpeg?q=70 - as ./images\\coffee_machine\n",
      "SUCCESS - saved https://rukminim1.flixcart.com/image/612/612/k5cs87k0/electric-kettle/m/a/9/hdm-traders-hdm002-hdm-002-original-imafnhw7wjrbhhhd.jpeg?q=70 - as ./images\\coffee_machine\n",
      "SUCCESS - saved https://rukminim1.flixcart.com/image/612/612/xif0q/coffee-maker/c/v/g/-original-imagg2xpzzrfuqvh.jpeg?q=70 - as ./images\\coffee_machine\n",
      "SUCCESS - saved https://rukminim1.flixcart.com/image/612/612/kqo3onk0/coffee-maker/3/d/7/natural-coffee-maker-personal-coffee-maker-yaari-bazaar-original-imag4mqzchwmuyqr.jpeg?q=70 - as ./images\\coffee_machine\n",
      "SUCCESS - saved https://rukminim1.flixcart.com/image/612/612/kxhvf680/electric-kettle/h/u/1/travel-fold-able-food-grade-electric-kettle-portable-silicone-original-imag9y6hyfyfpdzh.jpeg?q=70 - as ./images\\coffee_machine\n",
      "SUCCESS - saved https://rukminim1.flixcart.com/image/612/612/jl9rf680/coffee-maker/x/v/w/instacuppa-french-press-coffee-maker-600-ml-4-part-superior-original-imaf8fkmt9ukytwz.jpeg?q=70 - as ./images\\coffee_machine\n",
      "SUCCESS - saved https://rukminim1.flixcart.com/image/612/612/k76ihe80/electric-kettle/v/v/e/krishna-shopping-world-foldable-electric-travel-kettle-dual-original-imafphfjgdtxeyhk.jpeg?q=70 - as ./images\\coffee_machine\n",
      "SUCCESS - saved https://rukminim1.flixcart.com/image/612/612/kolsscw0/mug/o/s/d/steel-travel-outdoor-electric-mug-12-v-car-charging-electric-original-imag3yrna4cbpwh2.jpeg?q=70 - as ./images\\coffee_machine\n",
      "SUCCESS - saved https://rukminim1.flixcart.com/image/612/612/kpbipow0/electric-kettle/v/4/d/electric-kettle-2-l-made-with-stainless-steel-clubics-original-imag3h7jpnyxxbay.jpeg?q=70 - as ./images\\coffee_machine\n",
      "SUCCESS - saved https://rukminim1.flixcart.com/image/612/612/kj4m0sw0-0/electric-kettle/5/o/s/electric-kettle-2-litre-elegant-design-for-hot-water-tea-coffee-original-imafyreewg6tfhdb.jpeg?q=70 - as ./images\\coffee_machine\n",
      "SUCCESS - saved https://rukminim1.flixcart.com/image/612/612/kjkbv680-0/electric-kettle/7/f/5/electric-kettle-stainless-steel-water-heater-boiler-with-fast-original-imafz3sfpsq7zgrg.jpeg?q=70 - as ./images\\coffee_machine\n",
      "SUCCESS - saved https://rukminim1.flixcart.com/image/612/612/kyg5zm80/coffee-maker/d/d/5/stainless-steel-south-indian-filter-coffee-drip-maker-madras-original-imagazqzv4zjry2r.jpeg?q=70 - as ./images\\coffee_machine\n",
      "SUCCESS - saved https://rukminim1.flixcart.com/image/612/612/l5h2xe80/coffee-maker/3/l/e/cf1-coffee-filter-no1-wecook-original-imagg52ympdymegt.jpeg?q=70 - as ./images\\coffee_machine\n",
      "SUCCESS - saved https://rukminim1.flixcart.com/image/612/612/kosxzm80/electric-kettle/y/o/w/travel-foldable-electric-kettle-portable-silicone-foldable-original-imag36makhzrgqwv.jpeg?q=70 - as ./images\\coffee_machine\n",
      "SUCCESS - saved https://rukminim1.flixcart.com/image/612/612/ky90scw0/coffee-maker/y/0/0/-original-imagajfnzrvctm2d.jpeg?q=70 - as ./images\\coffee_machine\n",
      "SUCCESS - saved https://rukminim1.flixcart.com/image/612/612/kydb3ww0/coffee-maker/j/u/c/electric-kettle-scarlet-electric-kettle-2l-design-for-hot-water-original-imagahxzvhrcjed3.jpeg?q=70 - as ./images\\coffee_machine\n",
      "SUCCESS - saved https://rukminim1.flixcart.com/image/612/612/l2c753k0/coffee-maker/8/y/b/stovetop-espresso-and-coffee-maker-moka-pot-for-classic-italian-original-imagdpgngwryhqgw.jpeg?q=70 - as ./images\\coffee_machine\n",
      "SUCCESS - saved https://rukminim1.flixcart.com/image/612/612/ku2zjww0/coffee-maker/y/6/e/automatic-turkish-coffee-maker-portable-travel-coffee-machine-original-imag79ye3kfcthrx.jpeg?q=70 - as ./images\\coffee_machine\n",
      "SUCCESS - saved https://rukminim1.flixcart.com/image/612/612/xif0q/coffee-maker/y/h/q/bha-coffee-mug-devanshi-original-imaghfyapykc2ajz.jpeg?q=70 - as ./images\\coffee_machine\n",
      "SUCCESS - saved https://rukminim1.flixcart.com/image/612/612/ksoz53k0/whisk/o/7/r/hand-blender-mixer-suraj-empire-original-imag678xjgqyffmf.jpeg?q=70 - as ./images\\coffee_machine\n",
      "SUCCESS - saved https://rukminim1.flixcart.com/image/612/612/kvtuxe80/coffee-maker/p/f/j/jk-cof-maker-s4-expresso-original-imag8nykhka7zfab.jpeg?q=70 - as ./images\\coffee_machine\n",
      "SUCCESS - saved https://rukminim1.flixcart.com/image/612/612/k1pbpu80/coffee-maker/g/j/w/instacuppa-french-press-coffee-m123-french-press-coffee-m0122-original-imafh7rjgvpsxcfj.jpeg?q=70 - as ./images\\coffee_machine\n",
      "SUCCESS - saved https://rukminim1.flixcart.com/image/612/612/l58iaa80/mixer-grinder-juicer/m/2/h/by-nima-japan-multi-function-food-grinder-household-electric-original-imagfyhkwyvbff3h.jpeg?q=70 - as ./images\\coffee_machine\n",
      "SUCCESS - saved https://rukminim1.flixcart.com/image/612/612/kcw9w280/coffee-maker/f/5/c/instacuppa-spare-glass-carafe-for-french-press-coffee-maker-original-imaftxbepc4bwcma.jpeg?q=70 - as ./images\\coffee_machine\n",
      "SUCCESS - saved https://rukminim1.flixcart.com/image/612/612/kiyw9e80-0/coffee-maker/6/b/q/cafe-desire-tea-coffee-2-lane-vending-machine-wit-5-inch-original-imafymgfrrvueyhp.jpeg?q=70 - as ./images\\coffee_machine\n"
     ]
    }
   ],
   "source": [
    "DRIVER_PATH = r'../chromedriver.exe'\n",
    "search_term = 'Coffee Machine'\n",
    "# num of images you can pass it from here  by default it's 10 if you are not passing\n",
    "#number_images = 50\n",
    "search_and_download(search_term=search_term, driver_path=DRIVER_PATH, number_images=50)"
   ]
  },
  {
   "cell_type": "code",
   "execution_count": null,
   "id": "ddb1e0fa",
   "metadata": {},
   "outputs": [],
   "source": []
  }
 ],
 "metadata": {
  "kernelspec": {
   "display_name": "Python 3 (ipykernel)",
   "language": "python",
   "name": "python3"
  },
  "language_info": {
   "codemirror_mode": {
    "name": "ipython",
    "version": 3
   },
   "file_extension": ".py",
   "mimetype": "text/x-python",
   "name": "python",
   "nbconvert_exporter": "python",
   "pygments_lexer": "ipython3",
   "version": "3.9.12"
  }
 },
 "nbformat": 4,
 "nbformat_minor": 5
}
