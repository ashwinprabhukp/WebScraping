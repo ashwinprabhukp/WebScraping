{
 "cells": [
  {
   "cell_type": "code",
   "execution_count": 1,
   "id": "53257d4a",
   "metadata": {},
   "outputs": [],
   "source": [
    "import requests\n",
    "from bs4 import BeautifulSoup as bs\n",
    "from urllib.request import urlopen as uReq\n",
    "from selenium import webdriver\n",
    "from selenium.webdriver.common.by import By\n",
    "from selenium.webdriver.support import expected_conditions as EC\n",
    "import os\n",
    "import urllib\n",
    "import time"
   ]
  },
  {
   "cell_type": "code",
   "execution_count": 2,
   "id": "92c85a77",
   "metadata": {},
   "outputs": [],
   "source": [
    "def scroll_to_end(wd):\n",
    "    wd.execute_script(\"window.scrollTo(0, document.body.scrollHeight);\")\n",
    "    time.sleep(1)"
   ]
  },
  {
   "cell_type": "code",
   "execution_count": 3,
   "id": "94d1eb9d",
   "metadata": {},
   "outputs": [],
   "source": [
    "def fetch_image_urls(query: str, max_links_to_fetch: int, wd: webdriver, sleep_between_interactions: int = 1):\n",
    "\n",
    "    try:\n",
    "        # build the flipkart query\n",
    "        search_url = \"https://www.google.com/search?tbm=isch&q={0}\"\n",
    "\n",
    "        image_urls = set()\n",
    "        image_count = 0\n",
    "        results_start = 0\n",
    "        google_cookies_accepted = False\n",
    "        search_url = search_url.format(query).replace (\" \",\"%20\")\n",
    "        page_source = wd.page_source\n",
    "\n",
    "        # Accept googlecookies button if not already accepted\n",
    "        if not google_cookies_accepted:\n",
    "            wd = accept_google_cookies(wd, search_url)\n",
    "\n",
    "        while image_count < max_links_to_fetch-1:\n",
    "            scroll_to_end(wd)\n",
    "\n",
    "            #Click thumbnails ang get main image of better resolution\n",
    "            for thumbnail in wd.find_elements(By.CLASS_NAME, \"rg_i\"):\n",
    "                thumbnail.click();\n",
    "                search_page_html = bs(wd.page_source)\n",
    "                thumbnail_results = search_page_html.findAll(\"img\", {\"class\": \"n3VNCb\"})\n",
    "                image_urls = image_urls.union(extract_image_urls(thumbnail_results))\n",
    "                if len(image_urls) >= max_links_to_fetch:\n",
    "                    break\n",
    "                    \n",
    "            image_count = len(image_urls)\n",
    "            # Extract more images to meet the count\n",
    "            if image_count >= max_links_to_fetch:\n",
    "                print(f\"Found: {image_count} image links, done!\")\n",
    "                break\n",
    "            else:\n",
    "                print(\"Found:\", image_count, \"image links, looking for more ...\")\n",
    "\n",
    "                # Check if more search result pages available\n",
    "                load_more_button = wd.find_element(By.CLASS_NAME, \"mye4qd\")\n",
    "                if load_more_button:\n",
    "                    wd.execute_script(\"document.querySelector('.mye4qd').click();\")\n",
    "    except Exception as e:\n",
    "        print(f\"ERROR while fetching image URLs - {e}\")\n",
    "\n",
    "    return image_urls"
   ]
  },
  {
   "cell_type": "code",
   "execution_count": 4,
   "id": "34173af5",
   "metadata": {},
   "outputs": [],
   "source": [
    "def accept_google_cookies(wd: webdriver, url: str):\n",
    "    try:\n",
    "        wd.get(url)\n",
    "        # Find if there is accept all button, if so click it\n",
    "        wd.find_element(By.XPATH, \"//*[@id='yDmH0d']/c-wiz/div/div/div/div[2]/div[1]/div[3]/div[1]/div[1]/form[2]/div/div/button\").click();\n",
    "    except Exception as e:\n",
    "        print(f\"ERROR while accepting the google cookies: - {url} - {e}\")\n",
    "        \n",
    "    return wd    "
   ]
  },
  {
   "cell_type": "code",
   "execution_count": 5,
   "id": "b5fe01ed",
   "metadata": {},
   "outputs": [],
   "source": [
    "def extract_image_urls(thumbnail_results: list):\n",
    "    image_urls = set()\n",
    "    try:\n",
    "        for img in thumbnail_results:\n",
    "            # extract image urls\n",
    "            if img['src'] and 'http' in img['src']:\n",
    "                image_urls.add(img['src'])\n",
    "                \n",
    "    except Exception as e:\n",
    "        print(f\"ERROR - Extracting the image URLs - {e}\")\n",
    "    return image_urls"
   ]
  },
  {
   "cell_type": "code",
   "execution_count": 6,
   "id": "6bfa730c",
   "metadata": {},
   "outputs": [],
   "source": [
    "def build_beautifulsoup_object(url: str):\n",
    "    try:\n",
    "        # get all image thumbnail results\n",
    "        uClient = uReq(url)\n",
    "        flipkartPage = uClient.read()\n",
    "        uClient.close()\n",
    "        search_page_html = bs(flipkartPage, \"html.parser\")\n",
    "        \n",
    "    except Exception as e:\n",
    "        print(f\"ERROR - building the Beautiful Soup object {url} - {e}\")\n",
    "        \n",
    "    return search_page_html                               "
   ]
  },
  {
   "cell_type": "code",
   "execution_count": 7,
   "id": "0a0680a0",
   "metadata": {},
   "outputs": [],
   "source": [
    "def download_image(folder_path:str,url:str, counter):\n",
    "    try:\n",
    "        image_content = requests.get(url).content\n",
    "\n",
    "    except Exception as e:\n",
    "        print(f\"ERROR - Could not download {url} - {e}\")\n",
    "\n",
    "    try:\n",
    "        f = open(os.path.join(folder_path, 'jpg' + \"_\" + str(counter) + \".jpg\"), 'wb')\n",
    "        f.write(image_content)\n",
    "        f.close()\n",
    "        print(f\"SUCCESS - saved {url} - as {folder_path}\")\n",
    "    except Exception as e:\n",
    "        print(f\"ERROR - Could not save {url} - {e}\")"
   ]
  },
  {
   "cell_type": "code",
   "execution_count": 8,
   "id": "44d58600",
   "metadata": {},
   "outputs": [],
   "source": [
    "def search_and_download(search_term: str, driver_path: str, target_path='./images', number_images=10):\n",
    "    try:\n",
    "        target_folder = os.path.join(target_path, '_'.join(search_term.lower().split(' ')))\n",
    "\n",
    "        if not os.path.exists(target_folder):\n",
    "            os.makedirs(target_folder)\n",
    "\n",
    "        with webdriver.Chrome(executable_path=driver_path) as wd:\n",
    "            res = fetch_image_urls(search_term, number_images, wd, sleep_between_interactions=0.5)\n",
    "\n",
    "        counter = 0\n",
    "        for elem in res:\n",
    "            download_image(target_folder, elem, counter)\n",
    "            counter += 1\n",
    "    except Exception as e:\n",
    "        print(f\"ERROR - while search and download images - {e}\")"
   ]
  },
  {
   "cell_type": "code",
   "execution_count": 9,
   "id": "9b7f4c6d",
   "metadata": {
    "scrolled": true
   },
   "outputs": [
    {
     "name": "stderr",
     "output_type": "stream",
     "text": [
      "C:\\Users\\ashwin.prabhu\\AppData\\Local\\Temp\\ipykernel_23576\\3963979008.py:8: DeprecationWarning: executable_path has been deprecated, please pass in a Service object\n",
      "  with webdriver.Chrome(executable_path=driver_path) as wd:\n"
     ]
    },
    {
     "name": "stdout",
     "output_type": "stream",
     "text": [
      "Found: 50 image links, done!\n",
      "SUCCESS - saved https://shabdabramha.files.wordpress.com/2014/04/jashodaben-narendra-modi.jpg - as ./images\\narendra_damodar_das_modi\n",
      "SUCCESS - saved https://encrypted-tbn0.gstatic.com/images?q=tbn:ANd9GcQg70hMkXdCL5C5Cwvtd2TVe2jbukOekwCK5g&usqp=CAU - as ./images\\narendra_damodar_das_modi\n",
      "SUCCESS - saved https://encrypted-tbn0.gstatic.com/images?q=tbn:ANd9GcReo-l-FRmnPJchpOFfS0wnAZ9eRGtm5vBVFw&usqp=CAU - as ./images\\narendra_damodar_das_modi\n",
      "SUCCESS - saved https://i0.wp.com/www.eurasiareview.com/wp-content/uploads/2015/08/Modi.jpg?resize=800%2C445&ssl=1 - as ./images\\narendra_damodar_das_modi\n",
      "SUCCESS - saved https://encrypted-tbn0.gstatic.com/images?q=tbn:ANd9GcSmvccxCLuohKyXJAL_i7_AwbSE2ZNGSJAoKg&usqp=CAU - as ./images\\narendra_damodar_das_modi\n",
      "SUCCESS - saved https://encrypted-tbn0.gstatic.com/images?q=tbn:ANd9GcT9eqQiBl10_mDp1CB-9igoQAn_P4JiMYO_rQ&usqp=CAU - as ./images\\narendra_damodar_das_modi\n",
      "SUCCESS - saved https://encrypted-tbn0.gstatic.com/images?q=tbn:ANd9GcRThXjci9gAiWORBM51TlAcg8sPsdAdkqmXwQ&usqp=CAU - as ./images\\narendra_damodar_das_modi\n",
      "SUCCESS - saved https://encrypted-tbn0.gstatic.com/images?q=tbn:ANd9GcTQgP-z95nkW3QD5RjzN4mVYHrrnpJqFEsZmg&usqp=CAU - as ./images\\narendra_damodar_das_modi\n",
      "SUCCESS - saved https://image.slidesharecdn.com/narendradamodardasmodi-140530052048-phpapp02/85/the-15th-prime-minister-of-india-narendra-damodardas-modi-18-320.jpg?cb=1401427926 - as ./images\\narendra_damodar_das_modi\n",
      "SUCCESS - saved https://encrypted-tbn0.gstatic.com/images?q=tbn:ANd9GcQO3jinpZ1jF6_0a2R4hbhDvBQzgYNuUphSeA&usqp=CAU - as ./images\\narendra_damodar_das_modi\n",
      "SUCCESS - saved https://encrypted-tbn0.gstatic.com/images?q=tbn:ANd9GcRPF5tGZoEf-tL9_iy7LieMjwEB0COEfT292Q&usqp=CAU - as ./images\\narendra_damodar_das_modi\n",
      "SUCCESS - saved https://encrypted-tbn0.gstatic.com/images?q=tbn:ANd9GcSJfHec-qnQFe3FPXdrjvDe69xhBfP1hJn0rA&usqp=CAU - as ./images\\narendra_damodar_das_modi\n",
      "SUCCESS - saved https://encrypted-tbn0.gstatic.com/images?q=tbn:ANd9GcSMK7zyDcxzUVbeH12AG6MVV4sBjXqiZKHvYw&usqp=CAU - as ./images\\narendra_damodar_das_modi\n",
      "SUCCESS - saved https://encrypted-tbn0.gstatic.com/images?q=tbn:ANd9GcReQ3HaqncdxvKlp8mRCpiMuiNso1Tly2VZ5Q&usqp=CAU - as ./images\\narendra_damodar_das_modi\n",
      "SUCCESS - saved https://encrypted-tbn0.gstatic.com/images?q=tbn:ANd9GcSqB1q0CD7Sl8VN8bwBDJUkBWJVL7HEFf3l5g&usqp=CAU - as ./images\\narendra_damodar_das_modi\n",
      "SUCCESS - saved https://encrypted-tbn0.gstatic.com/images?q=tbn:ANd9GcSBHpl9umvThFYf2O3PsAZZFXn7vJtEFJ9lHg&usqp=CAU - as ./images\\narendra_damodar_das_modi\n",
      "SUCCESS - saved https://encrypted-tbn0.gstatic.com/images?q=tbn:ANd9GcRQpsefjZ3G81U3UHWTIdhUlgFBUCsFeoOXbw&usqp=CAU - as ./images\\narendra_damodar_das_modi\n",
      "SUCCESS - saved https://encrypted-tbn0.gstatic.com/images?q=tbn:ANd9GcS9T2QT1cr25w-wtctMzBoQNnsfDqIbVpNoUw&usqp=CAU - as ./images\\narendra_damodar_das_modi\n",
      "SUCCESS - saved https://encrypted-tbn0.gstatic.com/images?q=tbn:ANd9GcQtJB4DFFxE2zpUNy83NzKv5b1l5mFlWADuxw&usqp=CAU - as ./images\\narendra_damodar_das_modi\n",
      "SUCCESS - saved https://encrypted-tbn0.gstatic.com/images?q=tbn:ANd9GcSIzXdb4WEmshpjqhNsRMO_dF4SwWdjmoyofQ&usqp=CAU - as ./images\\narendra_damodar_das_modi\n",
      "SUCCESS - saved https://encrypted-tbn0.gstatic.com/images?q=tbn:ANd9GcRsFrphJ5fptkxDij4h6cHZcVtYTrizs9lOUw&usqp=CAU - as ./images\\narendra_damodar_das_modi\n",
      "SUCCESS - saved https://encrypted-tbn0.gstatic.com/images?q=tbn:ANd9GcQGLgcRZLSzKqYBurdBFvNrBCu685W_5pKGXg&usqp=CAU - as ./images\\narendra_damodar_das_modi\n",
      "SUCCESS - saved https://encrypted-tbn0.gstatic.com/images?q=tbn:ANd9GcSgzzW0w-9-ORmL8imbjxrAxE4hQi1m9JMM1w&usqp=CAU - as ./images\\narendra_damodar_das_modi\n",
      "SUCCESS - saved https://i.ytimg.com/vi/sLNpFDHADqY/mqdefault.jpg - as ./images\\narendra_damodar_das_modi\n",
      "SUCCESS - saved https://encrypted-tbn0.gstatic.com/images?q=tbn:ANd9GcQNjrg5I8_BvtYnIYbnt34-Ztxx3ln1QySOfw&usqp=CAU - as ./images\\narendra_damodar_das_modi\n",
      "SUCCESS - saved https://encrypted-tbn0.gstatic.com/images?q=tbn:ANd9GcTQX450dT-pjivdjv3ELZnpgjqsB56yQXuQ1Q&usqp=CAU - as ./images\\narendra_damodar_das_modi\n",
      "SUCCESS - saved https://im.indiatimes.in/content/itimes/blog/2014/Dec/30/1419879890-narendra-damodardas-modi.jpg - as ./images\\narendra_damodar_das_modi\n",
      "SUCCESS - saved https://encrypted-tbn0.gstatic.com/images?q=tbn:ANd9GcS8sM4PZ7MEA7zHLMOjDdYtWKj4i27hmak95A&usqp=CAU - as ./images\\narendra_damodar_das_modi\n",
      "SUCCESS - saved https://encrypted-tbn0.gstatic.com/images?q=tbn:ANd9GcRZkdOdUbJHJIBYljdLCFJRCKTBlte53soMzg&usqp=CAU - as ./images\\narendra_damodar_das_modi\n",
      "SUCCESS - saved https://encrypted-tbn0.gstatic.com/images?q=tbn:ANd9GcQExWAqLLnEtmn806B5NqS5bxHY63px7gGDhQ&usqp=CAU - as ./images\\narendra_damodar_das_modi\n",
      "SUCCESS - saved https://encrypted-tbn0.gstatic.com/images?q=tbn:ANd9GcROkNlCMFFbTgpCuUUsmJlcgZFeHb8qLq95Ug&usqp=CAU - as ./images\\narendra_damodar_das_modi\n",
      "SUCCESS - saved https://encrypted-tbn0.gstatic.com/images?q=tbn:ANd9GcSTQpSIiBH1uPzNJVncMy7HwIO8r6uKUtYQXA&usqp=CAU - as ./images\\narendra_damodar_das_modi\n",
      "SUCCESS - saved https://encrypted-tbn0.gstatic.com/images?q=tbn:ANd9GcTXUDKx4wdaVkXT3EsZCQfVxj5y6ZVUWlENUQ&usqp=CAU - as ./images\\narendra_damodar_das_modi\n",
      "SUCCESS - saved https://encrypted-tbn0.gstatic.com/images?q=tbn:ANd9GcREdjooknqnrnKFmF37L4mkcRKz7G_7U_n0_A&usqp=CAU - as ./images\\narendra_damodar_das_modi\n",
      "SUCCESS - saved https://encrypted-tbn0.gstatic.com/images?q=tbn:ANd9GcQomgJNwr9TdQK2b0DIa66XzQgkTSXw7pBaGQ&usqp=CAU - as ./images\\narendra_damodar_das_modi\n",
      "SUCCESS - saved https://encrypted-tbn0.gstatic.com/images?q=tbn:ANd9GcTjlHVaYF9i4uLq6ZiO5A3kfdz7oguv_QkfAg&usqp=CAU - as ./images\\narendra_damodar_das_modi\n",
      "SUCCESS - saved https://m.media-amazon.com/images/I/61ZBximLUDL.jpg - as ./images\\narendra_damodar_das_modi\n",
      "SUCCESS - saved https://encrypted-tbn0.gstatic.com/images?q=tbn:ANd9GcR2lcsEfg07Yypcgqk1Jhf3A_mgCyuvUaQing&usqp=CAU - as ./images\\narendra_damodar_das_modi\n",
      "SUCCESS - saved https://encrypted-tbn0.gstatic.com/images?q=tbn:ANd9GcReodaxgvgONI6Edj7eo8wMKyJGEu6GW3To3g&usqp=CAU - as ./images\\narendra_damodar_das_modi\n",
      "SUCCESS - saved https://encrypted-tbn0.gstatic.com/images?q=tbn:ANd9GcSm2SHREDbsxgCfWvGx5Mh86DIAxzHNjw8SfQ&usqp=CAU - as ./images\\narendra_damodar_das_modi\n",
      "SUCCESS - saved https://encrypted-tbn0.gstatic.com/images?q=tbn:ANd9GcS0PwlzSQf9ZAiatff2fbVZplcgMK94DDapfg&usqp=CAU - as ./images\\narendra_damodar_das_modi\n",
      "SUCCESS - saved https://encrypted-tbn0.gstatic.com/images?q=tbn:ANd9GcR30ANf8PFJNIG453P3SO1PInN66C2uGSGrJw&usqp=CAU - as ./images\\narendra_damodar_das_modi\n",
      "SUCCESS - saved https://encrypted-tbn0.gstatic.com/images?q=tbn:ANd9GcTZa8lK7T_P0f-htwtk9kOR2D_vMhbP4pamHg&usqp=CAU - as ./images\\narendra_damodar_das_modi\n",
      "SUCCESS - saved https://encrypted-tbn0.gstatic.com/images?q=tbn:ANd9GcQgbmG3FST4ANqNgZ30AoUyp0nYne4PNwy2rQ&usqp=CAU - as ./images\\narendra_damodar_das_modi\n",
      "SUCCESS - saved https://encrypted-tbn0.gstatic.com/images?q=tbn:ANd9GcRBu9r10kyCVIkBT5r31NGFteKwGgw7UMLDsA&usqp=CAU - as ./images\\narendra_damodar_das_modi\n",
      "SUCCESS - saved https://encrypted-tbn0.gstatic.com/images?q=tbn:ANd9GcQeh5qbxwlmteR8397C-Jy01-u9Tt0BJ99ihA&usqp=CAU - as ./images\\narendra_damodar_das_modi\n",
      "SUCCESS - saved https://encrypted-tbn0.gstatic.com/images?q=tbn:ANd9GcRq-LLgFv1S7cYauuvqQKTbbGccqePZZ5Op9A&usqp=CAU - as ./images\\narendra_damodar_das_modi\n",
      "SUCCESS - saved https://encrypted-tbn0.gstatic.com/images?q=tbn:ANd9GcTdICTyW2u3RNuqiNko-z9CaE-aH3O0309EpA&usqp=CAU - as ./images\\narendra_damodar_das_modi\n",
      "SUCCESS - saved https://encrypted-tbn0.gstatic.com/images?q=tbn:ANd9GcSbAq_Z3njAKkSeF77-3Nr2Sf9sBoAz1mbLOA&usqp=CAU - as ./images\\narendra_damodar_das_modi\n",
      "SUCCESS - saved https://encrypted-tbn0.gstatic.com/images?q=tbn:ANd9GcQybrnLAMfPvF4bIxuT9oIrVFY_I2eSq5P2ZA&usqp=CAU - as ./images\\narendra_damodar_das_modi\n"
     ]
    }
   ],
   "source": [
    "DRIVER_PATH = r'./chromedriver.exe'\n",
    "search_term = 'Narendra Damodar Das Modi'\n",
    "# num of images you can pass it from here  by default it's 10 if you are not passing\n",
    "#number_images = 50\n",
    "search_and_download(search_term=search_term, driver_path=DRIVER_PATH, number_images=50)"
   ]
  },
  {
   "cell_type": "code",
   "execution_count": null,
   "id": "39642a26",
   "metadata": {},
   "outputs": [],
   "source": []
  }
 ],
 "metadata": {
  "kernelspec": {
   "display_name": "Python 3 (ipykernel)",
   "language": "python",
   "name": "python3"
  },
  "language_info": {
   "codemirror_mode": {
    "name": "ipython",
    "version": 3
   },
   "file_extension": ".py",
   "mimetype": "text/x-python",
   "name": "python",
   "nbconvert_exporter": "python",
   "pygments_lexer": "ipython3",
   "version": "3.9.12"
  }
 },
 "nbformat": 4,
 "nbformat_minor": 5
}
