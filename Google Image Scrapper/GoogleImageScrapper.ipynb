{
 "cells": [
  {
   "cell_type": "code",
   "execution_count": 1,
   "id": "53257d4a",
   "metadata": {},
   "outputs": [],
   "source": [
    "import requests\n",
    "from bs4 import BeautifulSoup as bs\n",
    "from urllib.request import urlopen as uReq\n",
    "from selenium import webdriver\n",
    "from selenium.webdriver.common.by import By\n",
    "from selenium.webdriver.support import expected_conditions as EC\n",
    "import os\n",
    "import urllib\n",
    "import time"
   ]
  },
  {
   "cell_type": "code",
   "execution_count": 2,
   "id": "92c85a77",
   "metadata": {},
   "outputs": [],
   "source": [
    "def scroll_to_end(wd):\n",
    "    wd.execute_script(\"window.scrollTo(0, document.body.scrollHeight);\")\n",
    "    time.sleep(1)"
   ]
  },
  {
   "cell_type": "code",
   "execution_count": 3,
   "id": "94d1eb9d",
   "metadata": {},
   "outputs": [],
   "source": [
    "def fetch_image_urls(query: str, max_links_to_fetch: int, wd: webdriver, sleep_between_interactions: int = 1):\n",
    "\n",
    "    try:\n",
    "        # build the flipkart query\n",
    "        search_url = \"https://www.google.com/search?tbm=isch&q={0}\"\n",
    "\n",
    "        image_urls = set()\n",
    "        image_count = 0\n",
    "        results_start = 0\n",
    "        google_cookies_accepted = False\n",
    "        search_url = search_url.format(query).replace (\" \",\"%20\")\n",
    "        page_source = wd.page_source\n",
    "\n",
    "        # Accept googlecookies button if not already accepted\n",
    "        if not google_cookies_accepted:\n",
    "            wd = accept_google_cookies(wd, search_url)\n",
    "\n",
    "        while image_count < max_links_to_fetch-1:\n",
    "            scroll_to_end(wd)\n",
    "\n",
    "            #Click thumbnails ang get main image of better resolution\n",
    "            for thumbnail in wd.find_elements(By.CLASS_NAME, \"rg_i\"):\n",
    "                thumbnail.click();\n",
    "                search_page_html = bs(wd.page_source)\n",
    "                thumbnail_results = search_page_html.findAll(\"img\", {\"class\": \"n3VNCb\"})\n",
    "                image_urls = image_urls.union(extract_image_urls(thumbnail_results))\n",
    "                if len(image_urls) >= max_links_to_fetch:\n",
    "                    break\n",
    "                    \n",
    "            image_count = len(image_urls)\n",
    "            # Extract more images to meet the count\n",
    "            if image_count >= max_links_to_fetch:\n",
    "                print(f\"Found: {image_count} image links, done!\")\n",
    "                break\n",
    "            else:\n",
    "                print(\"Found:\", image_count, \"image links, looking for more ...\")\n",
    "\n",
    "                # Check if more search result pages available\n",
    "                load_more_button = wd.find_element(By.CLASS_NAME, \"mye4qd\")\n",
    "                if load_more_button:\n",
    "                    wd.execute_script(\"document.querySelector('.mye4qd').click();\")\n",
    "    except Exception as e:\n",
    "        print(f\"ERROR while fetching image URLs - {e}\")\n",
    "\n",
    "    return image_urls"
   ]
  },
  {
   "cell_type": "code",
   "execution_count": 4,
   "id": "34173af5",
   "metadata": {},
   "outputs": [],
   "source": [
    "def accept_google_cookies(wd: webdriver, url: str):\n",
    "    try:\n",
    "        wd.get(url)\n",
    "        # Find if there is accept all button, if so click it\n",
    "        wd.find_element(By.XPATH, \"//*[@id='yDmH0d']/c-wiz/div/div/div/div[2]/div[1]/div[3]/div[1]/div[1]/form[2]/div/div/button\").click();\n",
    "    except Exception as e:\n",
    "        print(f\"ERROR while accepting the google cookies: - {url} - {e}\")\n",
    "        \n",
    "    return wd    "
   ]
  },
  {
   "cell_type": "code",
   "execution_count": 5,
   "id": "b5fe01ed",
   "metadata": {},
   "outputs": [],
   "source": [
    "def extract_image_urls(thumbnail_results: list):\n",
    "    image_urls = set()\n",
    "    try:\n",
    "        for img in thumbnail_results:\n",
    "            # extract image urls\n",
    "            if img['src'] and 'http' in img['src']:\n",
    "                image_urls.add(img['src'])\n",
    "                \n",
    "    except Exception as e:\n",
    "        print(f\"ERROR - Extracting the image URLs - {e}\")\n",
    "    return image_urls"
   ]
  },
  {
   "cell_type": "code",
   "execution_count": 6,
   "id": "6bfa730c",
   "metadata": {},
   "outputs": [],
   "source": [
    "def build_beautifulsoup_object(url: str):\n",
    "    try:\n",
    "        # get all image thumbnail results\n",
    "        uClient = uReq(url)\n",
    "        flipkartPage = uClient.read()\n",
    "        uClient.close()\n",
    "        search_page_html = bs(flipkartPage, \"html.parser\")\n",
    "        \n",
    "    except Exception as e:\n",
    "        print(f\"ERROR - building the Beautiful Soup object {url} - {e}\")\n",
    "        \n",
    "    return search_page_html                               "
   ]
  },
  {
   "cell_type": "code",
   "execution_count": 7,
   "id": "0a0680a0",
   "metadata": {},
   "outputs": [],
   "source": [
    "def download_image(folder_path:str,url:str, counter):\n",
    "    try:\n",
    "        image_content = requests.get(url).content\n",
    "\n",
    "    except Exception as e:\n",
    "        print(f\"ERROR - Could not download {url} - {e}\")\n",
    "\n",
    "    try:\n",
    "        f = open(os.path.join(folder_path, 'jpg' + \"_\" + str(counter) + \".jpg\"), 'wb')\n",
    "        f.write(image_content)\n",
    "        f.close()\n",
    "        print(f\"SUCCESS - saved {url} - as {folder_path}\")\n",
    "    except Exception as e:\n",
    "        print(f\"ERROR - Could not save {url} - {e}\")"
   ]
  },
  {
   "cell_type": "code",
   "execution_count": 8,
   "id": "44d58600",
   "metadata": {},
   "outputs": [],
   "source": [
    "def search_and_download(search_term: str, driver_path: str, target_path='./images', number_images=10):\n",
    "    try:\n",
    "        target_folder = os.path.join(target_path, '_'.join(search_term.lower().split(' ')))\n",
    "\n",
    "        if not os.path.exists(target_folder):\n",
    "            os.makedirs(target_folder)\n",
    "\n",
    "        with webdriver.Chrome(executable_path=driver_path) as wd:\n",
    "            res = fetch_image_urls(search_term, number_images, wd, sleep_between_interactions=0.5)\n",
    "\n",
    "        counter = 0\n",
    "        for elem in res:\n",
    "            download_image(target_folder, elem, counter)\n",
    "            counter += 1\n",
    "    except Exception as e:\n",
    "        print(f\"ERROR - while search and download images - {e}\")"
   ]
  },
  {
   "cell_type": "code",
   "execution_count": 11,
   "id": "9b7f4c6d",
   "metadata": {
    "scrolled": true
   },
   "outputs": [
    {
     "name": "stderr",
     "output_type": "stream",
     "text": [
      "C:\\Users\\ashwin.prabhu\\AppData\\Local\\Temp\\ipykernel_31188\\3963979008.py:8: DeprecationWarning: executable_path has been deprecated, please pass in a Service object\n",
      "  with webdriver.Chrome(executable_path=driver_path) as wd:\n"
     ]
    },
    {
     "name": "stdout",
     "output_type": "stream",
     "text": [
      "Found: 50 image links, done!\n",
      "SUCCESS - saved https://encrypted-tbn0.gstatic.com/images?q=tbn:ANd9GcTpIDqFmPRHQMDDsfSmLNd66GwlXkCXVCcyjw&usqp=CAU - as ./images\\pappu\n",
      "SUCCESS - saved https://encrypted-tbn0.gstatic.com/images?q=tbn:ANd9GcS4_YCJEsVw9A0UGBLI5xBwW5zDAt5R0JL1Tw&usqp=CAU - as ./images\\pappu\n",
      "SUCCESS - saved https://encrypted-tbn0.gstatic.com/images?q=tbn:ANd9GcS9bn8dALEKPi5RqwdvNSO0xznqgjUD5tshJQ&usqp=CAU - as ./images\\pappu\n",
      "SUCCESS - saved https://encrypted-tbn0.gstatic.com/images?q=tbn:ANd9GcTEyqPfXARV3-Lgc2d2-3V1EN6uCzNTSlcwaA&usqp=CAU - as ./images\\pappu\n",
      "SUCCESS - saved https://encrypted-tbn0.gstatic.com/images?q=tbn:ANd9GcTG0PI3LzCC0EKhaHRnJZZGZEl16yBkr9lsSg&usqp=CAU - as ./images\\pappu\n",
      "SUCCESS - saved https://encrypted-tbn0.gstatic.com/images?q=tbn:ANd9GcQ3LYRpohOEfraxvsMu4m30qIlr14UxE8OZfA&usqp=CAU - as ./images\\pappu\n",
      "SUCCESS - saved https://encrypted-tbn0.gstatic.com/images?q=tbn:ANd9GcRTso96L2n5FpRk9mITBZDNg3Fv7ku6-W30Bg&usqp=CAU - as ./images\\pappu\n",
      "SUCCESS - saved https://encrypted-tbn0.gstatic.com/images?q=tbn:ANd9GcTjFJA-mvGDPSSseqMkGzuMH_59j4ZClhoxDQ&usqp=CAU - as ./images\\pappu\n",
      "SUCCESS - saved https://encrypted-tbn0.gstatic.com/images?q=tbn:ANd9GcTFWHW7x3v2uyOADWIOCfW3aem3HQBFTZ9zyQ&usqp=CAU - as ./images\\pappu\n",
      "SUCCESS - saved https://encrypted-tbn0.gstatic.com/images?q=tbn:ANd9GcRWBJgIRjIx3eh_V6N1fHZZPZScXYdGKLUtuA&usqp=CAU - as ./images\\pappu\n",
      "SUCCESS - saved https://encrypted-tbn0.gstatic.com/images?q=tbn:ANd9GcSOVkM3cLxGwyDOkfAPFshu_GpDmCAdUKpA4A&usqp=CAU - as ./images\\pappu\n",
      "SUCCESS - saved https://encrypted-tbn0.gstatic.com/images?q=tbn:ANd9GcSxVxFcMub5RLjKCgAODXJOQWjCpF9okk3J3w&usqp=CAU - as ./images\\pappu\n",
      "SUCCESS - saved https://encrypted-tbn0.gstatic.com/images?q=tbn:ANd9GcSCUtov9rg7guC8xF7xqo4_MfI6I-fKaXq4_g&usqp=CAU - as ./images\\pappu\n",
      "SUCCESS - saved https://encrypted-tbn0.gstatic.com/images?q=tbn:ANd9GcTTBnz68Qmb5SDlnNXggeuleoAiPVHdQ1ZueQ&usqp=CAU - as ./images\\pappu\n",
      "SUCCESS - saved https://encrypted-tbn0.gstatic.com/images?q=tbn:ANd9GcQXlJ-YXCzzU54UHNIXnttzBk44Fgcrw3Emjw&usqp=CAU - as ./images\\pappu\n",
      "SUCCESS - saved https://encrypted-tbn0.gstatic.com/images?q=tbn:ANd9GcRPmQJa5IIAdCN4m9GmC5Tx8P8DOyjymhZOeQ&usqp=CAU - as ./images\\pappu\n",
      "SUCCESS - saved https://encrypted-tbn0.gstatic.com/images?q=tbn:ANd9GcTqnhqQTPiXDuLATCXDa2MturdeMc1BMVXZGA&usqp=CAU - as ./images\\pappu\n",
      "SUCCESS - saved https://encrypted-tbn0.gstatic.com/images?q=tbn:ANd9GcTwvtDQixN2gKsSU49JnK5rpBNPBPUHDl-IWg&usqp=CAU - as ./images\\pappu\n",
      "SUCCESS - saved https://encrypted-tbn0.gstatic.com/images?q=tbn:ANd9GcQNB1b0mXj9GBZE0iE4ZywJkjRWhZPiaViGdw&usqp=CAU - as ./images\\pappu\n",
      "SUCCESS - saved https://encrypted-tbn0.gstatic.com/images?q=tbn:ANd9GcT8-KUp2lCeAeXr-dpr7j7iunmFbcVkXpgZKA&usqp=CAU - as ./images\\pappu\n",
      "SUCCESS - saved https://encrypted-tbn0.gstatic.com/images?q=tbn:ANd9GcQiY0Ehn2yLFJBWIMJvf7As3SfCpn_5rgJ7Ig&usqp=CAU - as ./images\\pappu\n",
      "SUCCESS - saved https://encrypted-tbn0.gstatic.com/images?q=tbn:ANd9GcSYau091KiJNBR3jVNVNQRfR7ewhgXWw41FtQ&usqp=CAU - as ./images\\pappu\n",
      "SUCCESS - saved https://encrypted-tbn0.gstatic.com/images?q=tbn:ANd9GcTGaa-ZjWaNPZcoM3-G8HimFEcsXLyGV-vwSA&usqp=CAU - as ./images\\pappu\n",
      "SUCCESS - saved https://encrypted-tbn0.gstatic.com/images?q=tbn:ANd9GcSWD0yQf9pZVPyIglRWOVjDswaPYxI7iTE5vA&usqp=CAU - as ./images\\pappu\n",
      "SUCCESS - saved https://encrypted-tbn0.gstatic.com/images?q=tbn:ANd9GcSIQoriHk3zPBiD7bGIve91AsJTwvWkNbbIQA&usqp=CAU - as ./images\\pappu\n",
      "SUCCESS - saved https://encrypted-tbn0.gstatic.com/images?q=tbn:ANd9GcSbBSvWCO_4-QoUMwCYtK9tpUOkvGVVblcKpw&usqp=CAU - as ./images\\pappu\n",
      "SUCCESS - saved https://encrypted-tbn0.gstatic.com/images?q=tbn:ANd9GcTBPuiM3alU3Lrt6swXz0AW_LBU52Pbb_FkkA&usqp=CAU - as ./images\\pappu\n",
      "SUCCESS - saved https://encrypted-tbn0.gstatic.com/images?q=tbn:ANd9GcTvTVhoWrJ5vnf3sLlMgLjQu48bFrJvgaTz6w&usqp=CAU - as ./images\\pappu\n",
      "SUCCESS - saved https://encrypted-tbn0.gstatic.com/images?q=tbn:ANd9GcRzJAPHqLKGNqil7hzPxtcZU7lvSWXt0j5GCw&usqp=CAU - as ./images\\pappu\n",
      "SUCCESS - saved https://encrypted-tbn0.gstatic.com/images?q=tbn:ANd9GcQQkk7BltlVBD5pHMBr7-I_p3aNCTc-M67dgQ&usqp=CAU - as ./images\\pappu\n",
      "SUCCESS - saved https://encrypted-tbn0.gstatic.com/images?q=tbn:ANd9GcRC85bhZXGD9YNK7-p0c8aradcj_TiZc70WFA&usqp=CAU - as ./images\\pappu\n",
      "SUCCESS - saved https://encrypted-tbn0.gstatic.com/images?q=tbn:ANd9GcQjcECMH4L0WR7YQLtdS5q2BW2tnga-Os82SA&usqp=CAU - as ./images\\pappu\n",
      "SUCCESS - saved https://encrypted-tbn0.gstatic.com/images?q=tbn:ANd9GcTqnt8Dq7GCIR-Eht41DkViJ19PCo4VSy68CA&usqp=CAU - as ./images\\pappu\n",
      "SUCCESS - saved https://encrypted-tbn0.gstatic.com/images?q=tbn:ANd9GcSTxqYmHGUMMw3nkdYd17IvINHVcj5CJQ2huA&usqp=CAU - as ./images\\pappu\n",
      "SUCCESS - saved https://encrypted-tbn0.gstatic.com/images?q=tbn:ANd9GcS-bs_xAKA18O7QFrY6xZFrjQz-Dj4Hib7T1Q&usqp=CAU - as ./images\\pappu\n",
      "SUCCESS - saved https://encrypted-tbn0.gstatic.com/images?q=tbn:ANd9GcTRirdcyxmrjahXCLnOV5raQSR2mc4KetGSRg&usqp=CAU - as ./images\\pappu\n",
      "SUCCESS - saved https://encrypted-tbn0.gstatic.com/images?q=tbn:ANd9GcSHEiCy7OIHwA2tqfK87_l8hmnozERGV7DlGg&usqp=CAU - as ./images\\pappu\n",
      "SUCCESS - saved https://encrypted-tbn0.gstatic.com/images?q=tbn:ANd9GcTwYkP60VGS8MjazyR5kejLGuuAoj1lUVTmUQ&usqp=CAU - as ./images\\pappu\n",
      "SUCCESS - saved https://encrypted-tbn0.gstatic.com/images?q=tbn:ANd9GcROAD7y7MGtfgPJuNIOj5cAHA1D0ECBKNyG6w&usqp=CAU - as ./images\\pappu\n",
      "SUCCESS - saved https://encrypted-tbn0.gstatic.com/images?q=tbn:ANd9GcRPK580_N1iD_gU5B66XgErHXvdjL7aVzlAHg&usqp=CAU - as ./images\\pappu\n",
      "SUCCESS - saved https://encrypted-tbn0.gstatic.com/images?q=tbn:ANd9GcQ1tuCeM-zI0XF87pJinZ8BN9lrXnUlBaE6qQ&usqp=CAU - as ./images\\pappu\n",
      "SUCCESS - saved https://encrypted-tbn0.gstatic.com/images?q=tbn:ANd9GcRy1Auaboh1cUGltDfzDhCAoiV9U8qaqJ1GOg&usqp=CAU - as ./images\\pappu\n",
      "SUCCESS - saved https://encrypted-tbn0.gstatic.com/images?q=tbn:ANd9GcTTUPY4v8sWMhbz6KSlsZewDchb1iJOO6joqw&usqp=CAU - as ./images\\pappu\n",
      "SUCCESS - saved https://encrypted-tbn0.gstatic.com/images?q=tbn:ANd9GcTbK4HqDqVGZB5nWOiGbm384hWILHatCPva9w&usqp=CAU - as ./images\\pappu\n",
      "SUCCESS - saved https://encrypted-tbn0.gstatic.com/images?q=tbn:ANd9GcTJazRs7_V5Vsk1HPzHEbaGi9K5cOEvjgwnXQ&usqp=CAU - as ./images\\pappu\n",
      "SUCCESS - saved https://encrypted-tbn0.gstatic.com/images?q=tbn:ANd9GcTyZTH7X_o3KELfOl1fQ3sRKR6orY5ly1DczA&usqp=CAU - as ./images\\pappu\n",
      "SUCCESS - saved https://encrypted-tbn0.gstatic.com/images?q=tbn:ANd9GcT7bm50bU2tgTBsBtQ491f1N_MdMK4qkutRXw&usqp=CAU - as ./images\\pappu\n",
      "SUCCESS - saved https://encrypted-tbn0.gstatic.com/images?q=tbn:ANd9GcSo3CmVYy4IXjcS-IlvWuQImLTqIwynFUoj7g&usqp=CAU - as ./images\\pappu\n",
      "SUCCESS - saved https://encrypted-tbn0.gstatic.com/images?q=tbn:ANd9GcQUF4GEo1t_51uPNXXrze5G-s7uQwewAAgwrg&usqp=CAU - as ./images\\pappu\n",
      "SUCCESS - saved https://encrypted-tbn0.gstatic.com/images?q=tbn:ANd9GcTdfiFFEjv9OKldWQTLC94tp7iu-NTGjiEWLA&usqp=CAU - as ./images\\pappu\n"
     ]
    }
   ],
   "source": [
    "DRIVER_PATH = r'chromedriver.exe'\n",
    "search_term = 'Pappu'\n",
    "# num of images you can pass it from here  by default it's 10 if you are not passing\n",
    "#number_images = 50\n",
    "search_and_download(search_term=search_term, driver_path=DRIVER_PATH, number_images=50)"
   ]
  },
  {
   "cell_type": "code",
   "execution_count": null,
   "id": "39642a26",
   "metadata": {},
   "outputs": [],
   "source": []
  }
 ],
 "metadata": {
  "kernelspec": {
   "display_name": "Python 3 (ipykernel)",
   "language": "python",
   "name": "python3"
  },
  "language_info": {
   "codemirror_mode": {
    "name": "ipython",
    "version": 3
   },
   "file_extension": ".py",
   "mimetype": "text/x-python",
   "name": "python",
   "nbconvert_exporter": "python",
   "pygments_lexer": "ipython3",
   "version": "3.9.12"
  }
 },
 "nbformat": 4,
 "nbformat_minor": 5
}
