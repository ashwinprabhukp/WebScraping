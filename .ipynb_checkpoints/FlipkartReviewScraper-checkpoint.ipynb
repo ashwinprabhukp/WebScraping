{
 "cells": [
  {
   "cell_type": "code",
   "execution_count": 1,
   "id": "b669db77",
   "metadata": {},
   "outputs": [],
   "source": [
    "## pip install Flask==2.1.0"
   ]
  },
  {
   "cell_type": "code",
   "execution_count": 2,
   "id": "41c596b2",
   "metadata": {},
   "outputs": [],
   "source": [
    "from flask import Flask, render_template, request,jsonify\n",
    "from flask_cors import CORS,cross_origin\n",
    "import requests\n",
    "from bs4 import BeautifulSoup as bs\n",
    "from urllib.request import urlopen as uReq"
   ]
  },
  {
   "cell_type": "code",
   "execution_count": 3,
   "id": "be0660b6",
   "metadata": {},
   "outputs": [],
   "source": [
    "seearchString = \"iphone14\""
   ]
  },
  {
   "cell_type": "code",
   "execution_count": 4,
   "id": "d6daa882",
   "metadata": {},
   "outputs": [],
   "source": [
    "flipkart_url = \"https://www.flipkart.com/search?q=\" + seearchString"
   ]
  },
  {
   "cell_type": "code",
   "execution_count": 5,
   "id": "672a0763",
   "metadata": {},
   "outputs": [],
   "source": [
    "uClient = uReq(flipkart_url)"
   ]
  },
  {
   "cell_type": "code",
   "execution_count": 6,
   "id": "d53ae211",
   "metadata": {},
   "outputs": [],
   "source": [
    "flipkartPage = uClient.read()\n",
    "uClient.close()"
   ]
  },
  {
   "cell_type": "code",
   "execution_count": 7,
   "id": "05e96fc5",
   "metadata": {},
   "outputs": [],
   "source": [
    "flipkart_html = bs(flipkartPage, \"html.parser\")"
   ]
  },
  {
   "cell_type": "code",
   "execution_count": 8,
   "id": "b595c0c4",
   "metadata": {},
   "outputs": [],
   "source": [
    "bigboxes = flipkart_html.findAll(\"div\", {\"class\": \"_1AtVbE col-12-12\"})"
   ]
  },
  {
   "cell_type": "code",
   "execution_count": 14,
   "id": "6a1dfc6c",
   "metadata": {},
   "outputs": [
    {
     "data": {
      "text/plain": [
       "<div class=\"_1AtVbE col-12-12\"><div class=\"_13oc-S\"><div data-id=\"MOBGHWFHQFSQYBFU\" style=\"width:100%\"><div class=\"_2kHMtA\"><a class=\"_1fQZEK\" href=\"/apple-iphone-14-purple-128-gb/p/itm0b581eba85e08?pid=MOBGHWFHQFSQYBFU&amp;lid=LSTMOBGHWFHQFSQYBFUSBTOEU&amp;marketplace=FLIPKART&amp;q=iphone14&amp;store=tyy%2F4io&amp;srno=s_1_2&amp;otracker=search&amp;fm=organic&amp;iid=7888b759-a972-4279-8186-3f95ff1c23c5.MOBGHWFHQFSQYBFU.SEARCH&amp;ppt=None&amp;ppn=None&amp;ssid=1yh9u3mdtc0000001667816852552&amp;qH=694e31eb1200eb29\" rel=\"noopener noreferrer\" target=\"_blank\"><div class=\"MIXNux\"><div class=\"_2QcLo-\"><div><div class=\"CXW8mj\" style=\"height:200px;width:200px\"><img alt=\"APPLE iPhone 14 (Purple, 128 GB)\" class=\"_396cs4 _3exPp9\" src=\"https://rukminim1.flixcart.com/image/312/312/xif0q/mobile/b/u/f/-original-imaghxa5hvapbfds.jpeg?q=70\"/></div></div></div><div class=\"_3wLduG\"><div class=\"_3PzNI-\"><span class=\"f3A4_V\"><label class=\"_2iDkf8\"><input class=\"_30VH1S\" readonly=\"\" type=\"checkbox\"/><div class=\"_24_Dny\"></div></label></span><label class=\"_6Up2sF\"><span>Add to Compare</span></label></div></div><div class=\"_2hVSre _3nq8ih\"><div class=\"_36FSn5\"><svg class=\"_1l0elc\" height=\"16\" viewbox=\"0 0 20 16\" width=\"16\" xmlns=\"http://www.w3.org/2000/svg\"><path class=\"eX72wL\" d=\"M8.695 16.682C4.06 12.382 1 9.536 1 6.065 1 3.219 3.178 1 5.95 1c1.566 0 3.069.746 4.05 1.915C10.981 1.745 12.484 1 14.05 1 16.822 1 19 3.22 19 6.065c0 3.471-3.06 6.316-7.695 10.617L10 17.897l-1.305-1.215z\" fill=\"#2874F0\" fill-rule=\"evenodd\" opacity=\".9\" stroke=\"#FFF\"></path></svg></div></div></div><div class=\"_3pLy-c row\"><div class=\"col col-7-12\"><div class=\"_4rR01T\">APPLE iPhone 14 (Purple, 128 GB)</div><div class=\"gUuXy-\"><span class=\"_1lRcqv\" id=\"productRating_LSTMOBGHWFHQFSQYBFUSBTOEU_MOBGHWFHQFSQYBFU_\"><div class=\"_3LWZlK\">4.6<img class=\"_1wB99o\" src=\"data:image/svg+xml;base64,PHN2ZyB4bWxucz0iaHR0cDovL3d3dy53My5vcmcvMjAwMC9zdmciIHdpZHRoPSIxMyIgaGVpZ2h0PSIxMiI+PHBhdGggZmlsbD0iI0ZGRiIgZD0iTTYuNSA5LjQzOWwtMy42NzQgMi4yMy45NC00LjI2LTMuMjEtMi44ODMgNC4yNTQtLjQwNEw2LjUuMTEybDEuNjkgNC4wMSA0LjI1NC40MDQtMy4yMSAyLjg4Mi45NCA0LjI2eiIvPjwvc3ZnPg==\"/></div></span><span class=\"_2_R_DZ\"><span><span>386 Ratings </span><span class=\"_13vcmD\">&amp;</span><span> 25 Reviews</span></span></span></div><div class=\"fMghEO\"><ul class=\"_1xgFaf\"><li class=\"rgWa7D\">128 GB ROM</li><li class=\"rgWa7D\">15.49 cm (6.1 inch) Super Retina XDR Display</li><li class=\"rgWa7D\">12MP + 12MP | 12MP Front Camera</li><li class=\"rgWa7D\">A15 Bionic Chip, 6 Core Processor Processor</li><li class=\"rgWa7D\">1 Year Warranty for Phone and 6 Months Warranty for In-Box Accessories</li></ul></div></div><div class=\"col col-5-12 nlI3QM\"><div class=\"_3tbKJL\"><div class=\"_25b18c\"><div class=\"_30jeq3 _1_WHN1\">₹79,900</div></div><div class=\"_3tcB5a p8ucoS\"><div><div class=\"_2Tpdn3\" style=\"color:#000000;font-size:12px;font-weight:400\">Free delivery</div></div></div></div><div class=\"_13J9qT\"><img height=\"21\" src=\"//static-assets-web.flixcart.com/fk-p-linchpin-web/fk-cp-zion/img/fa_62673a.png\"/></div><div class=\"_2ZdXDB\"><div class=\"_3xFhiH\"><div class=\"_2Tpdn3 _18hQoS\" style=\"color:#000000;font-size:14px;font-style:normal;font-weight:400\">Upto </div><div class=\"_2Tpdn3 _18hQoS\" style=\"color:#000000;font-size:14px;font-style:normal;font-weight:700\">₹20,500</div><div class=\"_2Tpdn3 _18hQoS\" style=\"color:#000000;font-size:14px;font-style:normal;font-weight:400\"> Off on Exchange</div></div></div><div class=\"_2ZdXDB\"><div class=\"_3xFhiH\"><div class=\"_2Tpdn3 _18hQoS\" style=\"color:#26A541;font-size:14px;font-weight:700\">Bank Offer</div></div></div></div></div></a></div></div></div></div>"
      ]
     },
     "execution_count": 14,
     "metadata": {},
     "output_type": "execute_result"
    }
   ],
   "source": [
    "bigboxes[0]"
   ]
  },
  {
   "cell_type": "code",
   "execution_count": 10,
   "id": "399f758d",
   "metadata": {},
   "outputs": [],
   "source": [
    "del bigboxes[0:3]\n",
    "box = bigboxes[0]\n",
    "productLink = \"https://www.flipkart.com\" + box.div.div.div.a['href']"
   ]
  },
  {
   "cell_type": "code",
   "execution_count": 11,
   "id": "76bb4660",
   "metadata": {},
   "outputs": [
    {
     "data": {
      "text/plain": [
       "'https://www.flipkart.com/apple-iphone-14-purple-128-gb/p/itm0b581eba85e08?pid=MOBGHWFHQFSQYBFU&lid=LSTMOBGHWFHQFSQYBFUSBTOEU&marketplace=FLIPKART&q=iphone14&store=tyy%2F4io&srno=s_1_2&otracker=search&fm=organic&iid=7888b759-a972-4279-8186-3f95ff1c23c5.MOBGHWFHQFSQYBFU.SEARCH&ppt=None&ppn=None&ssid=1yh9u3mdtc0000001667816852552&qH=694e31eb1200eb29'"
      ]
     },
     "execution_count": 11,
     "metadata": {},
     "output_type": "execute_result"
    }
   ],
   "source": [
    "productLink"
   ]
  },
  {
   "cell_type": "code",
   "execution_count": 12,
   "id": "7a75e587",
   "metadata": {},
   "outputs": [],
   "source": [
    "prodRes = requests.get(productLink)\n",
    "prodRes.encoding='utf-8'\n",
    "prod_html = bs(prodRes.text, \"html.parser\")\n",
    "commentboxes = prod_html.find_all('div', {'class': \"_16PBlm\"})"
   ]
  },
  {
   "cell_type": "code",
   "execution_count": 13,
   "id": "d0a53ac5",
   "metadata": {
    "scrolled": false
   },
   "outputs": [
    {
     "name": "stdout",
     "output_type": "stream",
     "text": [
      "Customer Sankhadip Mazumder\n",
      "Rating: 4\n",
      "Review Headline: Good choice\n",
      "Review Description: It's a apple device .. that means you get the good old ios . No performance issue , supper ram and power management . My slightly distasteful remark would be on its camera . Dont get me wrong , its great but the colors seems to be vibrant by default which I'm not really a fan of. Also the low light performance of the front camera is not that sharp . I used to own a pixel 3 and its front camera output seems to be better than iphone 13's . But overall the camera is good and it will do the job. ...READ MORE\n",
      "\n",
      "\n",
      "\n",
      "Customer Sunder Singh \n",
      "Rating: 5\n",
      "Review Headline: Highly recommended\n",
      "Review Description: I am so happy to have first time i phone 14. My experience is outstanding to have this phone.But i wanted to have i phone 18 fortunately i have this now.READ MORE\n",
      "\n",
      "\n",
      "\n",
      "Customer Flipkart Customer\n",
      "Rating: 5\n",
      "Review Headline: Best in the market!\n",
      "Review Description: Excellent smart phone, Good battery backup and performance is very good, Good camera quality.READ MORE\n",
      "\n",
      "\n",
      "\n",
      "Customer Waqar ahmed\n",
      "Rating: 5\n",
      "Review Headline: Best in the market!\n",
      "Review Description: Amazing picture quality, awesome design, mind blowing display and fabulous performance and specially very handy phoneREAD MORE\n",
      "\n",
      "\n",
      "\n",
      "Customer Ashwini  biswal \n",
      "Rating: 4\n",
      "Review Headline: Good quality product\n",
      "Review Description: Awesome 👍READ MORE\n",
      "\n",
      "\n",
      "\n",
      "Customer Flipkart Customer\n",
      "Rating: 5\n",
      "Review Headline: Great product\n",
      "Review Description: Nice looking phone.READ MORE\n",
      "\n",
      "\n",
      "\n",
      "Customer Harsh  Parab\n",
      "Rating: 5\n",
      "Review Headline: Wonderful\n",
      "Review Description: My 1st IOS device so far good😊Midnight Black the best you can have, the Camera quality is excellent along with the multitasking performance. Go for it!READ MORE\n",
      "\n",
      "\n",
      "\n",
      "Customer Maulik  Rana \n",
      "Rating: 5\n",
      "Review Headline: Terrific\n",
      "Review Description: Iphone 14 Nothing to say about it.... too Fast to furious... thank you Flipkart 👍READ MORE\n",
      "\n",
      "\n",
      "\n",
      "Customer Guru Prasad\n",
      "Rating: 5\n",
      "Review Headline: Terrific\n",
      "Review Description: Worth the value. I was iPhone 12 mini user, so jump to iPhone 14 was a huge difference for me. Getting a better battery backup with this phone. I feel its a bit huge, but its good.READ MORE\n",
      "\n",
      "\n",
      "\n",
      "Customer Gyanjit Kar\n",
      "Rating: 5\n",
      "Review Headline: Worth every penny\n",
      "Review Description: No wordsREAD MORE\n",
      "\n",
      "\n",
      "\n"
     ]
    }
   ],
   "source": [
    "for comment in commentboxes:\n",
    "    # Customer name\n",
    "    if(comment.find('p', {'class': '_2sc7ZR _2V5EHH'})):\n",
    "        print(\"Customer \"+comment.find('p', {'class': '_2sc7ZR _2V5EHH'}).text)\n",
    "    #customer rating\n",
    "    if(comment.find('div', {'class': '_3LWZlK _1BLPMq'})):\n",
    "        print(\"Rating: \" + comment.find('div', {'class': '_3LWZlK _1BLPMq'}).text)\n",
    "    #customer review heading\n",
    "    if(comment.find('p', {'class': '_2-N8zT'})):\n",
    "        print(\"Review Headline: \" + comment.find('p', {'class': '_2-N8zT'}).text)\n",
    "    #customer review description\n",
    "    if(comment.find('div', {'class': 't-ZTKy'})):\n",
    "        print(\"Review Description: \" + comment.find('div', {'class': 't-ZTKy'}).text)\n",
    "    \n",
    "    if(commentboxes.index(comment) != len(commentboxes)-1):\n",
    "        print(\"\\n\\n\")"
   ]
  }
 ],
 "metadata": {
  "kernelspec": {
   "display_name": "Python 3 (ipykernel)",
   "language": "python",
   "name": "python3"
  },
  "language_info": {
   "codemirror_mode": {
    "name": "ipython",
    "version": 3
   },
   "file_extension": ".py",
   "mimetype": "text/x-python",
   "name": "python",
   "nbconvert_exporter": "python",
   "pygments_lexer": "ipython3",
   "version": "3.9.12"
  }
 },
 "nbformat": 4,
 "nbformat_minor": 5
}
